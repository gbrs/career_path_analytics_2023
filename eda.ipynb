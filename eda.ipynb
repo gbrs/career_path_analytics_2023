{
 "cells": [
  {
   "cell_type": "code",
   "execution_count": 1,
   "id": "25b26eae-011e-4d32-816a-fd0bb200116c",
   "metadata": {},
   "outputs": [],
   "source": [
    "import numpy as np\n",
    "import pandas as pd\n",
    "import matplotlib\n",
    "import matplotlib.pyplot as plt\n",
    "import seaborn as sns"
   ]
  },
  {
   "cell_type": "code",
   "execution_count": null,
   "id": "da1f3df9-6691-44d6-bd0e-34c104fc1271",
   "metadata": {},
   "outputs": [],
   "source": []
  },
  {
   "cell_type": "code",
   "execution_count": 3,
   "id": "39ed9b1d-3e63-4b76-bbc8-663bfd8e7c1c",
   "metadata": {},
   "outputs": [
    {
     "data": {
      "text/html": [
       "<div>\n",
       "<style scoped>\n",
       "    .dataframe tbody tr th:only-of-type {\n",
       "        vertical-align: middle;\n",
       "    }\n",
       "\n",
       "    .dataframe tbody tr th {\n",
       "        vertical-align: top;\n",
       "    }\n",
       "\n",
       "    .dataframe thead th {\n",
       "        text-align: right;\n",
       "    }\n",
       "</style>\n",
       "<table border=\"1\" class=\"dataframe\">\n",
       "  <thead>\n",
       "    <tr style=\"text-align: right;\">\n",
       "      <th></th>\n",
       "      <th>vacancy_id_conv</th>\n",
       "      <th>metric_full</th>\n",
       "      <th>emplpyer_id</th>\n",
       "    </tr>\n",
       "  </thead>\n",
       "  <tbody>\n",
       "    <tr>\n",
       "      <th>0</th>\n",
       "      <td>1</td>\n",
       "      <td>5.250818</td>\n",
       "      <td>640</td>\n",
       "    </tr>\n",
       "    <tr>\n",
       "      <th>1</th>\n",
       "      <td>2</td>\n",
       "      <td>5.808587</td>\n",
       "      <td>5123</td>\n",
       "    </tr>\n",
       "    <tr>\n",
       "      <th>2</th>\n",
       "      <td>3</td>\n",
       "      <td>2.830297</td>\n",
       "      <td>3325</td>\n",
       "    </tr>\n",
       "    <tr>\n",
       "      <th>3</th>\n",
       "      <td>4</td>\n",
       "      <td>5.179469</td>\n",
       "      <td>3511</td>\n",
       "    </tr>\n",
       "    <tr>\n",
       "      <th>4</th>\n",
       "      <td>5</td>\n",
       "      <td>5.457955</td>\n",
       "      <td>6604</td>\n",
       "    </tr>\n",
       "  </tbody>\n",
       "</table>\n",
       "</div>"
      ],
      "text/plain": [
       "   vacancy_id_conv  metric_full  emplpyer_id\n",
       "0                1     5.250818          640\n",
       "1                2     5.808587         5123\n",
       "2                3     2.830297         3325\n",
       "3                4     5.179469         3511\n",
       "4                5     5.457955         6604"
      ]
     },
     "execution_count": 3,
     "metadata": {},
     "output_type": "execute_result"
    }
   ],
   "source": [
    "vacs = pd.read_csv('../vacs_metrics.csv')\n",
    "vacs.head()"
   ]
  },
  {
   "cell_type": "markdown",
   "id": "84401ee5-06bb-491e-a98d-e0eefb0a4633",
   "metadata": {},
   "source": [
    "Таблица с метрикой-скор для каждой вакансии\n",
    "1. vacancy_id_conv — идентификатор вакансии\n",
    "2. metrics_full — метрика\n",
    "3. emplpyer_id - компания, работодатель?"
   ]
  },
  {
   "cell_type": "code",
   "execution_count": 5,
   "id": "0cdbcb79-2e1b-4ca0-a00c-eccb30937b0c",
   "metadata": {},
   "outputs": [
    {
     "name": "stdout",
     "output_type": "stream",
     "text": [
      "<class 'pandas.core.frame.DataFrame'>\n",
      "RangeIndex: 55500 entries, 0 to 55499\n",
      "Data columns (total 3 columns):\n",
      " #   Column           Non-Null Count  Dtype  \n",
      "---  ------           --------------  -----  \n",
      " 0   vacancy_id_conv  55500 non-null  int64  \n",
      " 1   metric_full      55500 non-null  float64\n",
      " 2   emplpyer_id      55500 non-null  int64  \n",
      "dtypes: float64(1), int64(2)\n",
      "memory usage: 1.3 MB\n"
     ]
    }
   ],
   "source": [
    "vacs.info()"
   ]
  },
  {
   "cell_type": "code",
   "execution_count": 7,
   "id": "7c22d715-a551-42a7-b6c0-b60ed24f4de9",
   "metadata": {},
   "outputs": [
    {
     "data": {
      "text/html": [
       "<div>\n",
       "<style scoped>\n",
       "    .dataframe tbody tr th:only-of-type {\n",
       "        vertical-align: middle;\n",
       "    }\n",
       "\n",
       "    .dataframe tbody tr th {\n",
       "        vertical-align: top;\n",
       "    }\n",
       "\n",
       "    .dataframe thead th {\n",
       "        text-align: right;\n",
       "    }\n",
       "</style>\n",
       "<table border=\"1\" class=\"dataframe\">\n",
       "  <thead>\n",
       "    <tr style=\"text-align: right;\">\n",
       "      <th></th>\n",
       "      <th>vacancy_id_conv</th>\n",
       "      <th>metric_full</th>\n",
       "      <th>emplpyer_id</th>\n",
       "    </tr>\n",
       "  </thead>\n",
       "  <tbody>\n",
       "    <tr>\n",
       "      <th>count</th>\n",
       "      <td>55500.000000</td>\n",
       "      <td>55500.000000</td>\n",
       "      <td>55500.000000</td>\n",
       "    </tr>\n",
       "    <tr>\n",
       "      <th>mean</th>\n",
       "      <td>28750.169694</td>\n",
       "      <td>4.393625</td>\n",
       "      <td>4994.316342</td>\n",
       "    </tr>\n",
       "    <tr>\n",
       "      <th>std</th>\n",
       "      <td>16711.462112</td>\n",
       "      <td>1.430828</td>\n",
       "      <td>2882.736532</td>\n",
       "    </tr>\n",
       "    <tr>\n",
       "      <th>min</th>\n",
       "      <td>1.000000</td>\n",
       "      <td>-2.259488</td>\n",
       "      <td>0.000000</td>\n",
       "    </tr>\n",
       "    <tr>\n",
       "      <th>25%</th>\n",
       "      <td>14281.750000</td>\n",
       "      <td>3.609140</td>\n",
       "      <td>2485.000000</td>\n",
       "    </tr>\n",
       "    <tr>\n",
       "      <th>50%</th>\n",
       "      <td>28660.500000</td>\n",
       "      <td>4.562120</td>\n",
       "      <td>4994.000000</td>\n",
       "    </tr>\n",
       "    <tr>\n",
       "      <th>75%</th>\n",
       "      <td>43149.250000</td>\n",
       "      <td>5.372227</td>\n",
       "      <td>7469.000000</td>\n",
       "    </tr>\n",
       "    <tr>\n",
       "      <th>max</th>\n",
       "      <td>58346.000000</td>\n",
       "      <td>8.949871</td>\n",
       "      <td>9999.000000</td>\n",
       "    </tr>\n",
       "  </tbody>\n",
       "</table>\n",
       "</div>"
      ],
      "text/plain": [
       "       vacancy_id_conv   metric_full   emplpyer_id\n",
       "count     55500.000000  55500.000000  55500.000000\n",
       "mean      28750.169694      4.393625   4994.316342\n",
       "std       16711.462112      1.430828   2882.736532\n",
       "min           1.000000     -2.259488      0.000000\n",
       "25%       14281.750000      3.609140   2485.000000\n",
       "50%       28660.500000      4.562120   4994.000000\n",
       "75%       43149.250000      5.372227   7469.000000\n",
       "max       58346.000000      8.949871   9999.000000"
      ]
     },
     "execution_count": 7,
     "metadata": {},
     "output_type": "execute_result"
    }
   ],
   "source": [
    "vacs.describe()"
   ]
  },
  {
   "cell_type": "markdown",
   "id": "f24ffe7e-1106-43c0-b443-185bc8bc862b",
   "metadata": {},
   "source": [
    "Отрицательные значения метрики?"
   ]
  },
  {
   "cell_type": "code",
   "execution_count": 17,
   "id": "def6d7f6-b444-4fa5-b947-efee0803b69c",
   "metadata": {},
   "outputs": [
    {
     "data": {
      "image/png": "[encoded data removed]",
      "text/plain": [
       "<Figure size 432x288 with 1 Axes>"
      ]
     },
     "metadata": {
      "needs_background": "light"
     },
     "output_type": "display_data"
    }
   ],
   "source": [
    "plt.xlim([-3, 0])\n",
    "plt.ylim([0, 100])\n",
    "sns.histplot(vacs.metric_full);"
   ]
  },
  {
   "cell_type": "markdown",
   "id": "69ac37ba-5ced-4664-9718-d4989e0066b5",
   "metadata": {},
   "source": [
    "Многочислены, распределены более-менее \"равномерно\". Не похоже на баг. Фича?"
   ]
  },
  {
   "cell_type": "code",
   "execution_count": 21,
   "id": "0c8af878-8015-417d-9e47-b56adc862d0f",
   "metadata": {},
   "outputs": [
    {
     "data": {
      "text/plain": [
       "vacancy_id_conv    55500\n",
       "metric_full        55500\n",
       "emplpyer_id         9961\n",
       "dtype: int64"
      ]
     },
     "execution_count": 21,
     "metadata": {},
     "output_type": "execute_result"
    }
   ],
   "source": [
    "vacs.nunique()"
   ]
  },
  {
   "cell_type": "markdown",
   "id": "7b2f5a4c-9e87-4e79-badb-f220fa1d8e78",
   "metadata": {},
   "source": [
    "ни разу значение метрики не совпало. Округлений не было."
   ]
  },
  {
   "cell_type": "code",
   "execution_count": null,
   "id": "84eef929-069d-4fce-bbf3-f80877536784",
   "metadata": {},
   "outputs": [],
   "source": []
  },
  {
   "cell_type": "code",
   "execution_count": 4,
   "id": "149f18fc-bad4-4f74-bc30-61b16e0a627f",
   "metadata": {},
   "outputs": [
    {
     "data": {
      "text/html": [
       "<div>\n",
       "<style scoped>\n",
       "    .dataframe tbody tr th:only-of-type {\n",
       "        vertical-align: middle;\n",
       "    }\n",
       "\n",
       "    .dataframe tbody tr th {\n",
       "        vertical-align: top;\n",
       "    }\n",
       "\n",
       "    .dataframe thead th {\n",
       "        text-align: right;\n",
       "    }\n",
       "</style>\n",
       "<table border=\"1\" class=\"dataframe\">\n",
       "  <thead>\n",
       "    <tr style=\"text-align: right;\">\n",
       "      <th></th>\n",
       "      <th>request_id</th>\n",
       "      <th>vacancy_id_conv</th>\n",
       "      <th>city</th>\n",
       "      <th>applicant</th>\n",
       "    </tr>\n",
       "  </thead>\n",
       "  <tbody>\n",
       "    <tr>\n",
       "      <th>0</th>\n",
       "      <td>168719525526659303f2dee867dc6eda</td>\n",
       "      <td>48019</td>\n",
       "      <td>Moscow</td>\n",
       "      <td>78076</td>\n",
       "    </tr>\n",
       "    <tr>\n",
       "      <th>1</th>\n",
       "      <td>168719525526659303f2dee867dc6eda</td>\n",
       "      <td>45120</td>\n",
       "      <td>Moscow</td>\n",
       "      <td>614859</td>\n",
       "    </tr>\n",
       "    <tr>\n",
       "      <th>2</th>\n",
       "      <td>168719525526659303f2dee867dc6eda</td>\n",
       "      <td>18132</td>\n",
       "      <td>Moscow</td>\n",
       "      <td>175212</td>\n",
       "    </tr>\n",
       "    <tr>\n",
       "      <th>3</th>\n",
       "      <td>168719525526659303f2dee867dc6eda</td>\n",
       "      <td>29942</td>\n",
       "      <td>Moscow</td>\n",
       "      <td>322643</td>\n",
       "    </tr>\n",
       "    <tr>\n",
       "      <th>4</th>\n",
       "      <td>168719525526659303f2dee867dc6eda</td>\n",
       "      <td>32658</td>\n",
       "      <td>Moscow</td>\n",
       "      <td>722260</td>\n",
       "    </tr>\n",
       "  </tbody>\n",
       "</table>\n",
       "</div>"
      ],
      "text/plain": [
       "                         request_id  vacancy_id_conv    city  applicant\n",
       "0  168719525526659303f2dee867dc6eda            48019  Moscow      78076\n",
       "1  168719525526659303f2dee867dc6eda            45120  Moscow     614859\n",
       "2  168719525526659303f2dee867dc6eda            18132  Moscow     175212\n",
       "3  168719525526659303f2dee867dc6eda            29942  Moscow     322643\n",
       "4  168719525526659303f2dee867dc6eda            32658  Moscow     722260"
      ]
     },
     "execution_count": 4,
     "metadata": {},
     "output_type": "execute_result"
    }
   ],
   "source": [
    "serps = pd.read_csv('../serps.csv')\n",
    "serps.head()"
   ]
  },
  {
   "cell_type": "markdown",
   "id": "b196622e-309c-46bd-9e3b-61e558bbbbc7",
   "metadata": {},
   "source": [
    "Таблица поисковых выдач\n",
    "1. request_id — идентификатор serp’а\n",
    "2. vacancy_id_conv  — идентификатор вакансии\n",
    "3. city — город пользователя, в котором он ищет работу.\n",
    "4. applicant - соискатель?"
   ]
  },
  {
   "cell_type": "code",
   "execution_count": 6,
   "id": "ea04a14f-31f0-46f3-9ab0-486c9fc00f86",
   "metadata": {},
   "outputs": [
    {
     "name": "stdout",
     "output_type": "stream",
     "text": [
      "<class 'pandas.core.frame.DataFrame'>\n",
      "RangeIndex: 2431596 entries, 0 to 2431595\n",
      "Data columns (total 4 columns):\n",
      " #   Column           Dtype \n",
      "---  ------           ----- \n",
      " 0   request_id       object\n",
      " 1   vacancy_id_conv  int64 \n",
      " 2   city             object\n",
      " 3   applicant        int64 \n",
      "dtypes: int64(2), object(2)\n",
      "memory usage: 74.2+ MB\n"
     ]
    }
   ],
   "source": [
    "serps.info()"
   ]
  },
  {
   "cell_type": "code",
   "execution_count": 18,
   "id": "d23c868b-0f96-4de3-b131-3fbfe7214db8",
   "metadata": {},
   "outputs": [
    {
     "data": {
      "text/html": [
       "<div>\n",
       "<style scoped>\n",
       "    .dataframe tbody tr th:only-of-type {\n",
       "        vertical-align: middle;\n",
       "    }\n",
       "\n",
       "    .dataframe tbody tr th {\n",
       "        vertical-align: top;\n",
       "    }\n",
       "\n",
       "    .dataframe thead th {\n",
       "        text-align: right;\n",
       "    }\n",
       "</style>\n",
       "<table border=\"1\" class=\"dataframe\">\n",
       "  <thead>\n",
       "    <tr style=\"text-align: right;\">\n",
       "      <th></th>\n",
       "      <th>vacancy_id_conv</th>\n",
       "      <th>applicant</th>\n",
       "    </tr>\n",
       "  </thead>\n",
       "  <tbody>\n",
       "    <tr>\n",
       "      <th>count</th>\n",
       "      <td>2.431596e+06</td>\n",
       "      <td>2.431596e+06</td>\n",
       "    </tr>\n",
       "    <tr>\n",
       "      <th>mean</th>\n",
       "      <td>2.414411e+04</td>\n",
       "      <td>4.999815e+05</td>\n",
       "    </tr>\n",
       "    <tr>\n",
       "      <th>std</th>\n",
       "      <td>1.534930e+04</td>\n",
       "      <td>2.885768e+05</td>\n",
       "    </tr>\n",
       "    <tr>\n",
       "      <th>min</th>\n",
       "      <td>1.000000e+00</td>\n",
       "      <td>0.000000e+00</td>\n",
       "    </tr>\n",
       "    <tr>\n",
       "      <th>25%</th>\n",
       "      <td>1.171500e+04</td>\n",
       "      <td>2.501980e+05</td>\n",
       "    </tr>\n",
       "    <tr>\n",
       "      <th>50%</th>\n",
       "      <td>2.179800e+04</td>\n",
       "      <td>4.999010e+05</td>\n",
       "    </tr>\n",
       "    <tr>\n",
       "      <th>75%</th>\n",
       "      <td>3.592200e+04</td>\n",
       "      <td>7.497200e+05</td>\n",
       "    </tr>\n",
       "    <tr>\n",
       "      <th>max</th>\n",
       "      <td>5.834600e+04</td>\n",
       "      <td>9.999990e+05</td>\n",
       "    </tr>\n",
       "  </tbody>\n",
       "</table>\n",
       "</div>"
      ],
      "text/plain": [
       "       vacancy_id_conv     applicant\n",
       "count     2.431596e+06  2.431596e+06\n",
       "mean      2.414411e+04  4.999815e+05\n",
       "std       1.534930e+04  2.885768e+05\n",
       "min       1.000000e+00  0.000000e+00\n",
       "25%       1.171500e+04  2.501980e+05\n",
       "50%       2.179800e+04  4.999010e+05\n",
       "75%       3.592200e+04  7.497200e+05\n",
       "max       5.834600e+04  9.999990e+05"
      ]
     },
     "execution_count": 18,
     "metadata": {},
     "output_type": "execute_result"
    }
   ],
   "source": [
    "serps.describe()"
   ]
  },
  {
   "cell_type": "code",
   "execution_count": 19,
   "id": "7c7e1f18-ac74-4737-a858-db84ddff2e18",
   "metadata": {},
   "outputs": [
    {
     "data": {
      "text/html": [
       "<div>\n",
       "<style scoped>\n",
       "    .dataframe tbody tr th:only-of-type {\n",
       "        vertical-align: middle;\n",
       "    }\n",
       "\n",
       "    .dataframe tbody tr th {\n",
       "        vertical-align: top;\n",
       "    }\n",
       "\n",
       "    .dataframe thead th {\n",
       "        text-align: right;\n",
       "    }\n",
       "</style>\n",
       "<table border=\"1\" class=\"dataframe\">\n",
       "  <thead>\n",
       "    <tr style=\"text-align: right;\">\n",
       "      <th></th>\n",
       "      <th>request_id</th>\n",
       "      <th>city</th>\n",
       "    </tr>\n",
       "  </thead>\n",
       "  <tbody>\n",
       "    <tr>\n",
       "      <th>count</th>\n",
       "      <td>2431596</td>\n",
       "      <td>2431596</td>\n",
       "    </tr>\n",
       "    <tr>\n",
       "      <th>unique</th>\n",
       "      <td>1000000</td>\n",
       "      <td>5</td>\n",
       "    </tr>\n",
       "    <tr>\n",
       "      <th>top</th>\n",
       "      <td>1687172902251a1750dec6b693a56090</td>\n",
       "      <td>Moscow</td>\n",
       "    </tr>\n",
       "    <tr>\n",
       "      <th>freq</th>\n",
       "      <td>50</td>\n",
       "      <td>785767</td>\n",
       "    </tr>\n",
       "  </tbody>\n",
       "</table>\n",
       "</div>"
      ],
      "text/plain": [
       "                              request_id     city\n",
       "count                            2431596  2431596\n",
       "unique                           1000000        5\n",
       "top     1687172902251a1750dec6b693a56090   Moscow\n",
       "freq                                  50   785767"
      ]
     },
     "execution_count": 19,
     "metadata": {},
     "output_type": "execute_result"
    }
   ],
   "source": [
    "serps.describe(include='object')"
   ]
  },
  {
   "cell_type": "code",
   "execution_count": 20,
   "id": "426a08e7-f158-4427-a820-00994e03b90e",
   "metadata": {},
   "outputs": [
    {
     "data": {
      "text/plain": [
       "request_id         1000000\n",
       "vacancy_id_conv      55500\n",
       "city                     5\n",
       "applicant           911862\n",
       "dtype: int64"
      ]
     },
     "execution_count": 20,
     "metadata": {},
     "output_type": "execute_result"
    }
   ],
   "source": [
    "serps.nunique()"
   ]
  },
  {
   "cell_type": "code",
   "execution_count": null,
   "id": "cab9fc21-a02f-4075-a137-87f102af2735",
   "metadata": {},
   "outputs": [],
   "source": []
  },
  {
   "cell_type": "code",
   "execution_count": null,
   "id": "8c7d9fb3-5929-4425-86a5-db97e5e14de6",
   "metadata": {},
   "outputs": [],
   "source": []
  },
  {
   "cell_type": "code",
   "execution_count": null,
   "id": "e22b206b-bbdb-49e2-aa2a-22f88e9bbc7e",
   "metadata": {},
   "outputs": [],
   "source": []
  }
 ],
 "metadata": {
  "kernelspec": {
   "display_name": "Python 3",
   "language": "python",
   "name": "python3"
  },
  "language_info": {
   "codemirror_mode": {
    "name": "ipython",
    "version": 3
   },
   "file_extension": ".py",
   "mimetype": "text/x-python",
   "name": "python",
   "nbconvert_exporter": "python",
   "pygments_lexer": "ipython3",
   "version": "3.8.8"
  }
 },
 "nbformat": 4,
 "nbformat_minor": 5
}
