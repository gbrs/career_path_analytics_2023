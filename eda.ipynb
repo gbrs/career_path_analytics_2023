{
 "cells": [
  {
   "cell_type": "code",
   "execution_count": 1,
   "id": "25b26eae-011e-4d32-816a-fd0bb200116c",
   "metadata": {},
   "outputs": [],
   "source": [
    "import numpy as np\n",
    "import pandas as pd\n",
    "import matplotlib\n",
    "import matplotlib.pyplot as plt\n",
    "import seaborn as sns"
   ]
  },
  {
   "cell_type": "code",
   "execution_count": null,
   "id": "f72b90a7-7dc5-46be-b736-1a86bbaee830",
   "metadata": {},
   "outputs": [],
   "source": []
  },
  {
   "cell_type": "markdown",
   "id": "bca06720-5b9e-4723-98cc-18012cde73c4",
   "metadata": {},
   "source": [
    "## Загрузка данных"
   ]
  },
  {
   "cell_type": "code",
   "execution_count": 2,
   "id": "39ed9b1d-3e63-4b76-bbc8-663bfd8e7c1c",
   "metadata": {},
   "outputs": [
    {
     "data": {
      "text/html": [
       "<div>\n",
       "<style scoped>\n",
       "    .dataframe tbody tr th:only-of-type {\n",
       "        vertical-align: middle;\n",
       "    }\n",
       "\n",
       "    .dataframe tbody tr th {\n",
       "        vertical-align: top;\n",
       "    }\n",
       "\n",
       "    .dataframe thead th {\n",
       "        text-align: right;\n",
       "    }\n",
       "</style>\n",
       "<table border=\"1\" class=\"dataframe\">\n",
       "  <thead>\n",
       "    <tr style=\"text-align: right;\">\n",
       "      <th></th>\n",
       "      <th>vacancy_id_conv</th>\n",
       "      <th>metric_full</th>\n",
       "      <th>emplpyer_id</th>\n",
       "    </tr>\n",
       "  </thead>\n",
       "  <tbody>\n",
       "    <tr>\n",
       "      <th>0</th>\n",
       "      <td>1</td>\n",
       "      <td>5.250818</td>\n",
       "      <td>640</td>\n",
       "    </tr>\n",
       "    <tr>\n",
       "      <th>1</th>\n",
       "      <td>2</td>\n",
       "      <td>5.808587</td>\n",
       "      <td>5123</td>\n",
       "    </tr>\n",
       "    <tr>\n",
       "      <th>2</th>\n",
       "      <td>3</td>\n",
       "      <td>2.830297</td>\n",
       "      <td>3325</td>\n",
       "    </tr>\n",
       "    <tr>\n",
       "      <th>3</th>\n",
       "      <td>4</td>\n",
       "      <td>5.179469</td>\n",
       "      <td>3511</td>\n",
       "    </tr>\n",
       "    <tr>\n",
       "      <th>4</th>\n",
       "      <td>5</td>\n",
       "      <td>5.457955</td>\n",
       "      <td>6604</td>\n",
       "    </tr>\n",
       "  </tbody>\n",
       "</table>\n",
       "</div>"
      ],
      "text/plain": [
       "   vacancy_id_conv  metric_full  emplpyer_id\n",
       "0                1     5.250818          640\n",
       "1                2     5.808587         5123\n",
       "2                3     2.830297         3325\n",
       "3                4     5.179469         3511\n",
       "4                5     5.457955         6604"
      ]
     },
     "execution_count": 2,
     "metadata": {},
     "output_type": "execute_result"
    }
   ],
   "source": [
    "vacs = pd.read_csv('../vacs_metrics.csv')\n",
    "vacs.head()"
   ]
  },
  {
   "cell_type": "markdown",
   "id": "84401ee5-06bb-491e-a98d-e0eefb0a4633",
   "metadata": {},
   "source": [
    "Таблица с метрикой-скор для каждой вакансии\n",
    "1. vacancy_id_conv — идентификатор вакансии\n",
    "2. metrics_full — метрика\n",
    "3. emplpyer_id - компания, работодатель?"
   ]
  },
  {
   "cell_type": "code",
   "execution_count": 44,
   "id": "82eb5733-2194-4b00-88f8-eca782c1d489",
   "metadata": {},
   "outputs": [
    {
     "data": {
      "text/plain": [
       "(55500, 3)"
      ]
     },
     "execution_count": 44,
     "metadata": {},
     "output_type": "execute_result"
    }
   ],
   "source": [
    "vacs.shape"
   ]
  },
  {
   "cell_type": "code",
   "execution_count": 5,
   "id": "0cdbcb79-2e1b-4ca0-a00c-eccb30937b0c",
   "metadata": {},
   "outputs": [
    {
     "name": "stdout",
     "output_type": "stream",
     "text": [
      "<class 'pandas.core.frame.DataFrame'>\n",
      "RangeIndex: 55500 entries, 0 to 55499\n",
      "Data columns (total 3 columns):\n",
      " #   Column           Non-Null Count  Dtype  \n",
      "---  ------           --------------  -----  \n",
      " 0   vacancy_id_conv  55500 non-null  int64  \n",
      " 1   metric_full      55500 non-null  float64\n",
      " 2   emplpyer_id      55500 non-null  int64  \n",
      "dtypes: float64(1), int64(2)\n",
      "memory usage: 1.3 MB\n"
     ]
    }
   ],
   "source": [
    "vacs.info()"
   ]
  },
  {
   "cell_type": "code",
   "execution_count": 7,
   "id": "7c22d715-a551-42a7-b6c0-b60ed24f4de9",
   "metadata": {},
   "outputs": [
    {
     "data": {
      "text/html": [
       "<div>\n",
       "<style scoped>\n",
       "    .dataframe tbody tr th:only-of-type {\n",
       "        vertical-align: middle;\n",
       "    }\n",
       "\n",
       "    .dataframe tbody tr th {\n",
       "        vertical-align: top;\n",
       "    }\n",
       "\n",
       "    .dataframe thead th {\n",
       "        text-align: right;\n",
       "    }\n",
       "</style>\n",
       "<table border=\"1\" class=\"dataframe\">\n",
       "  <thead>\n",
       "    <tr style=\"text-align: right;\">\n",
       "      <th></th>\n",
       "      <th>vacancy_id_conv</th>\n",
       "      <th>metric_full</th>\n",
       "      <th>emplpyer_id</th>\n",
       "    </tr>\n",
       "  </thead>\n",
       "  <tbody>\n",
       "    <tr>\n",
       "      <th>count</th>\n",
       "      <td>55500.000000</td>\n",
       "      <td>55500.000000</td>\n",
       "      <td>55500.000000</td>\n",
       "    </tr>\n",
       "    <tr>\n",
       "      <th>mean</th>\n",
       "      <td>28750.169694</td>\n",
       "      <td>4.393625</td>\n",
       "      <td>4994.316342</td>\n",
       "    </tr>\n",
       "    <tr>\n",
       "      <th>std</th>\n",
       "      <td>16711.462112</td>\n",
       "      <td>1.430828</td>\n",
       "      <td>2882.736532</td>\n",
       "    </tr>\n",
       "    <tr>\n",
       "      <th>min</th>\n",
       "      <td>1.000000</td>\n",
       "      <td>-2.259488</td>\n",
       "      <td>0.000000</td>\n",
       "    </tr>\n",
       "    <tr>\n",
       "      <th>25%</th>\n",
       "      <td>14281.750000</td>\n",
       "      <td>3.609140</td>\n",
       "      <td>2485.000000</td>\n",
       "    </tr>\n",
       "    <tr>\n",
       "      <th>50%</th>\n",
       "      <td>28660.500000</td>\n",
       "      <td>4.562120</td>\n",
       "      <td>4994.000000</td>\n",
       "    </tr>\n",
       "    <tr>\n",
       "      <th>75%</th>\n",
       "      <td>43149.250000</td>\n",
       "      <td>5.372227</td>\n",
       "      <td>7469.000000</td>\n",
       "    </tr>\n",
       "    <tr>\n",
       "      <th>max</th>\n",
       "      <td>58346.000000</td>\n",
       "      <td>8.949871</td>\n",
       "      <td>9999.000000</td>\n",
       "    </tr>\n",
       "  </tbody>\n",
       "</table>\n",
       "</div>"
      ],
      "text/plain": [
       "       vacancy_id_conv   metric_full   emplpyer_id\n",
       "count     55500.000000  55500.000000  55500.000000\n",
       "mean      28750.169694      4.393625   4994.316342\n",
       "std       16711.462112      1.430828   2882.736532\n",
       "min           1.000000     -2.259488      0.000000\n",
       "25%       14281.750000      3.609140   2485.000000\n",
       "50%       28660.500000      4.562120   4994.000000\n",
       "75%       43149.250000      5.372227   7469.000000\n",
       "max       58346.000000      8.949871   9999.000000"
      ]
     },
     "execution_count": 7,
     "metadata": {},
     "output_type": "execute_result"
    }
   ],
   "source": [
    "vacs.describe()"
   ]
  },
  {
   "cell_type": "markdown",
   "id": "f24ffe7e-1106-43c0-b443-185bc8bc862b",
   "metadata": {},
   "source": [
    "Отрицательные значения метрики?"
   ]
  },
  {
   "cell_type": "code",
   "execution_count": 17,
   "id": "def6d7f6-b444-4fa5-b947-efee0803b69c",
   "metadata": {},
   "outputs": [
    {
     "data": {
      "image/png": "[encoded data removed]",
      "text/plain": [
       "<Figure size 432x288 with 1 Axes>"
      ]
     },
     "metadata": {
      "needs_background": "light"
     },
     "output_type": "display_data"
    }
   ],
   "source": [
    "plt.xlim([-3, 0])\n",
    "plt.ylim([0, 100])\n",
    "sns.histplot(vacs.metric_full);"
   ]
  },
  {
   "cell_type": "markdown",
   "id": "69ac37ba-5ced-4664-9718-d4989e0066b5",
   "metadata": {},
   "source": [
    "Многочислены, распределены более-менее \"равномерно\". Не похоже на баг. Фича?"
   ]
  },
  {
   "cell_type": "code",
   "execution_count": 21,
   "id": "0c8af878-8015-417d-9e47-b56adc862d0f",
   "metadata": {},
   "outputs": [
    {
     "data": {
      "text/plain": [
       "vacancy_id_conv    55500\n",
       "metric_full        55500\n",
       "emplpyer_id         9961\n",
       "dtype: int64"
      ]
     },
     "execution_count": 21,
     "metadata": {},
     "output_type": "execute_result"
    }
   ],
   "source": [
    "vacs.nunique()"
   ]
  },
  {
   "cell_type": "markdown",
   "id": "7b2f5a4c-9e87-4e79-badb-f220fa1d8e78",
   "metadata": {},
   "source": [
    "Ни разу значение метрики не совпало. Поскольку округлений не было?  \n",
    "~55 тыс.вакансий от ~10 тыс.работодателей"
   ]
  },
  {
   "cell_type": "code",
   "execution_count": null,
   "id": "84eef929-069d-4fce-bbf3-f80877536784",
   "metadata": {},
   "outputs": [],
   "source": []
  },
  {
   "cell_type": "code",
   "execution_count": 3,
   "id": "149f18fc-bad4-4f74-bc30-61b16e0a627f",
   "metadata": {},
   "outputs": [
    {
     "data": {
      "text/html": [
       "<div>\n",
       "<style scoped>\n",
       "    .dataframe tbody tr th:only-of-type {\n",
       "        vertical-align: middle;\n",
       "    }\n",
       "\n",
       "    .dataframe tbody tr th {\n",
       "        vertical-align: top;\n",
       "    }\n",
       "\n",
       "    .dataframe thead th {\n",
       "        text-align: right;\n",
       "    }\n",
       "</style>\n",
       "<table border=\"1\" class=\"dataframe\">\n",
       "  <thead>\n",
       "    <tr style=\"text-align: right;\">\n",
       "      <th></th>\n",
       "      <th>request_id</th>\n",
       "      <th>vacancy_id_conv</th>\n",
       "      <th>city</th>\n",
       "      <th>applicant</th>\n",
       "    </tr>\n",
       "  </thead>\n",
       "  <tbody>\n",
       "    <tr>\n",
       "      <th>0</th>\n",
       "      <td>168719525526659303f2dee867dc6eda</td>\n",
       "      <td>48019</td>\n",
       "      <td>Moscow</td>\n",
       "      <td>78076</td>\n",
       "    </tr>\n",
       "    <tr>\n",
       "      <th>1</th>\n",
       "      <td>168719525526659303f2dee867dc6eda</td>\n",
       "      <td>45120</td>\n",
       "      <td>Moscow</td>\n",
       "      <td>614859</td>\n",
       "    </tr>\n",
       "    <tr>\n",
       "      <th>2</th>\n",
       "      <td>168719525526659303f2dee867dc6eda</td>\n",
       "      <td>18132</td>\n",
       "      <td>Moscow</td>\n",
       "      <td>175212</td>\n",
       "    </tr>\n",
       "    <tr>\n",
       "      <th>3</th>\n",
       "      <td>168719525526659303f2dee867dc6eda</td>\n",
       "      <td>29942</td>\n",
       "      <td>Moscow</td>\n",
       "      <td>322643</td>\n",
       "    </tr>\n",
       "    <tr>\n",
       "      <th>4</th>\n",
       "      <td>168719525526659303f2dee867dc6eda</td>\n",
       "      <td>32658</td>\n",
       "      <td>Moscow</td>\n",
       "      <td>722260</td>\n",
       "    </tr>\n",
       "  </tbody>\n",
       "</table>\n",
       "</div>"
      ],
      "text/plain": [
       "                         request_id  vacancy_id_conv    city  applicant\n",
       "0  168719525526659303f2dee867dc6eda            48019  Moscow      78076\n",
       "1  168719525526659303f2dee867dc6eda            45120  Moscow     614859\n",
       "2  168719525526659303f2dee867dc6eda            18132  Moscow     175212\n",
       "3  168719525526659303f2dee867dc6eda            29942  Moscow     322643\n",
       "4  168719525526659303f2dee867dc6eda            32658  Moscow     722260"
      ]
     },
     "execution_count": 3,
     "metadata": {},
     "output_type": "execute_result"
    }
   ],
   "source": [
    "serps = pd.read_csv('../serps.csv')\n",
    "serps.head()"
   ]
  },
  {
   "cell_type": "markdown",
   "id": "b196622e-309c-46bd-9e3b-61e558bbbbc7",
   "metadata": {},
   "source": [
    "Таблица поисковых выдач\n",
    "1. request_id — идентификатор serp’а\n",
    "2. vacancy_id_conv  — идентификатор вакансии\n",
    "3. city — город пользователя, в котором он ищет работу. Двусмысленно. Город, в котором ищет работу пользователь?\n",
    "4. applicant - соискатель?"
   ]
  },
  {
   "cell_type": "code",
   "execution_count": 45,
   "id": "7ff91752-3edf-42c1-bd5e-094aee2a3904",
   "metadata": {},
   "outputs": [
    {
     "data": {
      "text/plain": [
       "(2431596, 4)"
      ]
     },
     "execution_count": 45,
     "metadata": {},
     "output_type": "execute_result"
    }
   ],
   "source": [
    "serps.shape"
   ]
  },
  {
   "cell_type": "code",
   "execution_count": 6,
   "id": "ea04a14f-31f0-46f3-9ab0-486c9fc00f86",
   "metadata": {},
   "outputs": [
    {
     "name": "stdout",
     "output_type": "stream",
     "text": [
      "<class 'pandas.core.frame.DataFrame'>\n",
      "RangeIndex: 2431596 entries, 0 to 2431595\n",
      "Data columns (total 4 columns):\n",
      " #   Column           Dtype \n",
      "---  ------           ----- \n",
      " 0   request_id       object\n",
      " 1   vacancy_id_conv  int64 \n",
      " 2   city             object\n",
      " 3   applicant        int64 \n",
      "dtypes: int64(2), object(2)\n",
      "memory usage: 74.2+ MB\n"
     ]
    }
   ],
   "source": [
    "serps.info()"
   ]
  },
  {
   "cell_type": "code",
   "execution_count": 18,
   "id": "d23c868b-0f96-4de3-b131-3fbfe7214db8",
   "metadata": {},
   "outputs": [
    {
     "data": {
      "text/html": [
       "<div>\n",
       "<style scoped>\n",
       "    .dataframe tbody tr th:only-of-type {\n",
       "        vertical-align: middle;\n",
       "    }\n",
       "\n",
       "    .dataframe tbody tr th {\n",
       "        vertical-align: top;\n",
       "    }\n",
       "\n",
       "    .dataframe thead th {\n",
       "        text-align: right;\n",
       "    }\n",
       "</style>\n",
       "<table border=\"1\" class=\"dataframe\">\n",
       "  <thead>\n",
       "    <tr style=\"text-align: right;\">\n",
       "      <th></th>\n",
       "      <th>vacancy_id_conv</th>\n",
       "      <th>applicant</th>\n",
       "    </tr>\n",
       "  </thead>\n",
       "  <tbody>\n",
       "    <tr>\n",
       "      <th>count</th>\n",
       "      <td>2.431596e+06</td>\n",
       "      <td>2.431596e+06</td>\n",
       "    </tr>\n",
       "    <tr>\n",
       "      <th>mean</th>\n",
       "      <td>2.414411e+04</td>\n",
       "      <td>4.999815e+05</td>\n",
       "    </tr>\n",
       "    <tr>\n",
       "      <th>std</th>\n",
       "      <td>1.534930e+04</td>\n",
       "      <td>2.885768e+05</td>\n",
       "    </tr>\n",
       "    <tr>\n",
       "      <th>min</th>\n",
       "      <td>1.000000e+00</td>\n",
       "      <td>0.000000e+00</td>\n",
       "    </tr>\n",
       "    <tr>\n",
       "      <th>25%</th>\n",
       "      <td>1.171500e+04</td>\n",
       "      <td>2.501980e+05</td>\n",
       "    </tr>\n",
       "    <tr>\n",
       "      <th>50%</th>\n",
       "      <td>2.179800e+04</td>\n",
       "      <td>4.999010e+05</td>\n",
       "    </tr>\n",
       "    <tr>\n",
       "      <th>75%</th>\n",
       "      <td>3.592200e+04</td>\n",
       "      <td>7.497200e+05</td>\n",
       "    </tr>\n",
       "    <tr>\n",
       "      <th>max</th>\n",
       "      <td>5.834600e+04</td>\n",
       "      <td>9.999990e+05</td>\n",
       "    </tr>\n",
       "  </tbody>\n",
       "</table>\n",
       "</div>"
      ],
      "text/plain": [
       "       vacancy_id_conv     applicant\n",
       "count     2.431596e+06  2.431596e+06\n",
       "mean      2.414411e+04  4.999815e+05\n",
       "std       1.534930e+04  2.885768e+05\n",
       "min       1.000000e+00  0.000000e+00\n",
       "25%       1.171500e+04  2.501980e+05\n",
       "50%       2.179800e+04  4.999010e+05\n",
       "75%       3.592200e+04  7.497200e+05\n",
       "max       5.834600e+04  9.999990e+05"
      ]
     },
     "execution_count": 18,
     "metadata": {},
     "output_type": "execute_result"
    }
   ],
   "source": [
    "serps.describe()"
   ]
  },
  {
   "cell_type": "code",
   "execution_count": 19,
   "id": "7c7e1f18-ac74-4737-a858-db84ddff2e18",
   "metadata": {},
   "outputs": [
    {
     "data": {
      "text/html": [
       "<div>\n",
       "<style scoped>\n",
       "    .dataframe tbody tr th:only-of-type {\n",
       "        vertical-align: middle;\n",
       "    }\n",
       "\n",
       "    .dataframe tbody tr th {\n",
       "        vertical-align: top;\n",
       "    }\n",
       "\n",
       "    .dataframe thead th {\n",
       "        text-align: right;\n",
       "    }\n",
       "</style>\n",
       "<table border=\"1\" class=\"dataframe\">\n",
       "  <thead>\n",
       "    <tr style=\"text-align: right;\">\n",
       "      <th></th>\n",
       "      <th>request_id</th>\n",
       "      <th>city</th>\n",
       "    </tr>\n",
       "  </thead>\n",
       "  <tbody>\n",
       "    <tr>\n",
       "      <th>count</th>\n",
       "      <td>2431596</td>\n",
       "      <td>2431596</td>\n",
       "    </tr>\n",
       "    <tr>\n",
       "      <th>unique</th>\n",
       "      <td>1000000</td>\n",
       "      <td>5</td>\n",
       "    </tr>\n",
       "    <tr>\n",
       "      <th>top</th>\n",
       "      <td>1687172902251a1750dec6b693a56090</td>\n",
       "      <td>Moscow</td>\n",
       "    </tr>\n",
       "    <tr>\n",
       "      <th>freq</th>\n",
       "      <td>50</td>\n",
       "      <td>785767</td>\n",
       "    </tr>\n",
       "  </tbody>\n",
       "</table>\n",
       "</div>"
      ],
      "text/plain": [
       "                              request_id     city\n",
       "count                            2431596  2431596\n",
       "unique                           1000000        5\n",
       "top     1687172902251a1750dec6b693a56090   Moscow\n",
       "freq                                  50   785767"
      ]
     },
     "execution_count": 19,
     "metadata": {},
     "output_type": "execute_result"
    }
   ],
   "source": [
    "serps.describe(include='object')"
   ]
  },
  {
   "cell_type": "code",
   "execution_count": 20,
   "id": "426a08e7-f158-4427-a820-00994e03b90e",
   "metadata": {},
   "outputs": [
    {
     "data": {
      "text/plain": [
       "request_id         1000000\n",
       "vacancy_id_conv      55500\n",
       "city                     5\n",
       "applicant           911862\n",
       "dtype: int64"
      ]
     },
     "execution_count": 20,
     "metadata": {},
     "output_type": "execute_result"
    }
   ],
   "source": [
    "serps.nunique()"
   ]
  },
  {
   "cell_type": "markdown",
   "id": "5d57636d-6257-4805-b636-ab843a48e679",
   "metadata": {},
   "source": [
    "1 млн разных наборов выдачи?  \n",
    "~55 тыс вакансий  \n",
    "Из 5 городов  \n",
    "От ~900 тыс соискателей  "
   ]
  },
  {
   "cell_type": "code",
   "execution_count": null,
   "id": "c2f600a5-7683-449e-baf2-96f90f38b1c7",
   "metadata": {},
   "outputs": [],
   "source": []
  },
  {
   "cell_type": "code",
   "execution_count": 4,
   "id": "8c7d9fb3-5929-4425-86a5-db97e5e14de6",
   "metadata": {
    "tags": []
   },
   "outputs": [],
   "source": [
    "request_ids = serps.request_id.unique()"
   ]
  },
  {
   "cell_type": "code",
   "execution_count": 39,
   "id": "14eb213b-ce36-4032-9e4d-343b76fb1902",
   "metadata": {},
   "outputs": [
    {
     "data": {
      "text/plain": [
       "0"
      ]
     },
     "execution_count": 39,
     "metadata": {},
     "output_type": "execute_result"
    }
   ],
   "source": [
    "cnt = 0\n",
    "for i in range(500):\n",
    "    df = serps[serps.request_id == np.random.choice(request_ids)]\n",
    "    if not df.applicant.nunique() == df.shape[0]:\n",
    "        cnt += 1\n",
    "cnt"
   ]
  },
  {
   "cell_type": "code",
   "execution_count": 8,
   "id": "512c35f6-c155-4ea0-9342-817d3e7086cf",
   "metadata": {},
   "outputs": [
    {
     "data": {
      "text/plain": [
       "(1000000,)"
      ]
     },
     "execution_count": 8,
     "metadata": {},
     "output_type": "execute_result"
    }
   ],
   "source": [
    "request_ids.shape"
   ]
  },
  {
   "cell_type": "markdown",
   "id": "55d275ce-83a2-4c6b-9aec-16787f68a38b",
   "metadata": {},
   "source": [
    "Набор объявлений показывается одному пользователю только один раз? Ни разу не показали второй раз? Как же это устроено?"
   ]
  },
  {
   "cell_type": "code",
   "execution_count": null,
   "id": "ec77a306-ad2d-4522-906a-453ff53aef13",
   "metadata": {},
   "outputs": [],
   "source": []
  },
  {
   "cell_type": "markdown",
   "id": "4778f7ca-289b-4b89-a3b7-11ccf0e3f48c",
   "metadata": {},
   "source": [
    "## Одномерный анализ"
   ]
  },
  {
   "cell_type": "code",
   "execution_count": 47,
   "id": "f822b379-be8c-466a-8136-806155ae12d8",
   "metadata": {},
   "outputs": [
    {
     "data": {
      "text/plain": [
       "vacancy_id_conv    0\n",
       "metric_full        0\n",
       "emplpyer_id        0\n",
       "dtype: int64"
      ]
     },
     "execution_count": 47,
     "metadata": {},
     "output_type": "execute_result"
    }
   ],
   "source": [
    "vacs.isnull().sum()"
   ]
  },
  {
   "cell_type": "code",
   "execution_count": 48,
   "id": "f7ef6831-06f4-4b6e-8bba-50b47001c0ef",
   "metadata": {},
   "outputs": [
    {
     "data": {
      "text/html": [
       "<div>\n",
       "<style scoped>\n",
       "    .dataframe tbody tr th:only-of-type {\n",
       "        vertical-align: middle;\n",
       "    }\n",
       "\n",
       "    .dataframe tbody tr th {\n",
       "        vertical-align: top;\n",
       "    }\n",
       "\n",
       "    .dataframe thead th {\n",
       "        text-align: right;\n",
       "    }\n",
       "</style>\n",
       "<table border=\"1\" class=\"dataframe\">\n",
       "  <thead>\n",
       "    <tr style=\"text-align: right;\">\n",
       "      <th></th>\n",
       "      <th>vacancy_id_conv</th>\n",
       "      <th>metric_full</th>\n",
       "      <th>emplpyer_id</th>\n",
       "    </tr>\n",
       "  </thead>\n",
       "  <tbody>\n",
       "  </tbody>\n",
       "</table>\n",
       "</div>"
      ],
      "text/plain": [
       "Empty DataFrame\n",
       "Columns: [vacancy_id_conv, metric_full, emplpyer_id]\n",
       "Index: []"
      ]
     },
     "execution_count": 48,
     "metadata": {},
     "output_type": "execute_result"
    }
   ],
   "source": [
    "vacs[vacs.duplicated()]"
   ]
  },
  {
   "cell_type": "code",
   "execution_count": 49,
   "id": "4caf0c3a-22fe-4106-88e1-98e17f890d77",
   "metadata": {},
   "outputs": [
    {
     "data": {
      "text/plain": [
       "count    55500.000000\n",
       "mean     28750.169694\n",
       "std      16711.462112\n",
       "min          1.000000\n",
       "25%      14281.750000\n",
       "50%      28660.500000\n",
       "75%      43149.250000\n",
       "max      58346.000000\n",
       "Name: vacancy_id_conv, dtype: float64"
      ]
     },
     "execution_count": 49,
     "metadata": {},
     "output_type": "execute_result"
    }
   ],
   "source": [
    "vacs.vacancy_id_conv.describe()"
   ]
  },
  {
   "cell_type": "code",
   "execution_count": 51,
   "id": "380cb70d-8c4b-421b-be24-e32a8723254d",
   "metadata": {},
   "outputs": [
    {
     "data": {
      "text/plain": [
       "55500"
      ]
     },
     "execution_count": 51,
     "metadata": {},
     "output_type": "execute_result"
    }
   ],
   "source": [
    "vacs.vacancy_id_conv.nunique()"
   ]
  },
  {
   "cell_type": "markdown",
   "id": "8a0fc4f7-f14c-41e1-a0c3-258e4d10e2c7",
   "metadata": {},
   "source": [
    "Все vacancy_id_conv уникальны. Но не все между 1 и 58346 существуют"
   ]
  },
  {
   "cell_type": "code",
   "execution_count": 52,
   "id": "a626becc-c813-4993-95cc-e81c4903f1e1",
   "metadata": {},
   "outputs": [
    {
     "data": {
      "text/plain": [
       "count    55500.000000\n",
       "mean      4994.316342\n",
       "std       2882.736532\n",
       "min          0.000000\n",
       "25%       2485.000000\n",
       "50%       4994.000000\n",
       "75%       7469.000000\n",
       "max       9999.000000\n",
       "Name: emplpyer_id, dtype: float64"
      ]
     },
     "execution_count": 52,
     "metadata": {},
     "output_type": "execute_result"
    }
   ],
   "source": [
    "vacs.emplpyer_id.describe()"
   ]
  },
  {
   "cell_type": "code",
   "execution_count": 53,
   "id": "85ed9ef9-6fb3-495e-ac48-7ff36ccd8ca0",
   "metadata": {},
   "outputs": [
    {
     "data": {
      "text/plain": [
       "9961"
      ]
     },
     "execution_count": 53,
     "metadata": {},
     "output_type": "execute_result"
    }
   ],
   "source": [
    "vacs.emplpyer_id.nunique()"
   ]
  },
  {
   "cell_type": "markdown",
   "id": "9d84dbde-d322-453d-a37d-40eed1b71cce",
   "metadata": {},
   "source": [
    "Не все emplpyer_id между 1 и 9999 существуют"
   ]
  },
  {
   "cell_type": "code",
   "execution_count": 54,
   "id": "02af1ffb-e633-44af-9bbc-02b2aa942731",
   "metadata": {},
   "outputs": [
    {
     "data": {
      "image/png": "[encoded data removed]",
      "text/plain": [
       "<Figure size 432x288 with 1 Axes>"
      ]
     },
     "metadata": {
      "needs_background": "light"
     },
     "output_type": "display_data"
    }
   ],
   "source": [
    "sns.histplot(vacs.metric_full);"
   ]
  },
  {
   "cell_type": "code",
   "execution_count": 55,
   "id": "a6f4dac1-961e-40e1-9747-92da9ca17f2d",
   "metadata": {},
   "outputs": [
    {
     "data": {
      "text/plain": [
       "(4.393625295094181, 4.562120268028568)"
      ]
     },
     "execution_count": 55,
     "metadata": {},
     "output_type": "execute_result"
    }
   ],
   "source": [
    "vacs.metric_full.mean(), vacs.metric_full.median()"
   ]
  },
  {
   "cell_type": "markdown",
   "id": "a67b8215-c0e4-4a88-a401-8bb94aafd569",
   "metadata": {},
   "source": [
    "Хвост слева тяжелее. Отрицательные значения \"выглядят естественно\", хотя что это могло бы значить - непонятно"
   ]
  },
  {
   "cell_type": "code",
   "execution_count": null,
   "id": "fff695c5-7a44-4934-b322-e989df2ad8b7",
   "metadata": {},
   "outputs": [],
   "source": []
  },
  {
   "cell_type": "code",
   "execution_count": 6,
   "id": "7c31d3bb-2005-4540-a739-83dc2363cd8b",
   "metadata": {},
   "outputs": [
    {
     "data": {
      "text/plain": [
       "request_id         0\n",
       "vacancy_id_conv    0\n",
       "city               0\n",
       "applicant          0\n",
       "dtype: int64"
      ]
     },
     "execution_count": 6,
     "metadata": {},
     "output_type": "execute_result"
    }
   ],
   "source": [
    "serps.isnull().sum()"
   ]
  },
  {
   "cell_type": "code",
   "execution_count": 7,
   "id": "76b1e8f4-1e88-4d0f-b62a-c553d316dccc",
   "metadata": {},
   "outputs": [
    {
     "data": {
      "text/html": [
       "<div>\n",
       "<style scoped>\n",
       "    .dataframe tbody tr th:only-of-type {\n",
       "        vertical-align: middle;\n",
       "    }\n",
       "\n",
       "    .dataframe tbody tr th {\n",
       "        vertical-align: top;\n",
       "    }\n",
       "\n",
       "    .dataframe thead th {\n",
       "        text-align: right;\n",
       "    }\n",
       "</style>\n",
       "<table border=\"1\" class=\"dataframe\">\n",
       "  <thead>\n",
       "    <tr style=\"text-align: right;\">\n",
       "      <th></th>\n",
       "      <th>request_id</th>\n",
       "      <th>vacancy_id_conv</th>\n",
       "      <th>city</th>\n",
       "      <th>applicant</th>\n",
       "    </tr>\n",
       "  </thead>\n",
       "  <tbody>\n",
       "  </tbody>\n",
       "</table>\n",
       "</div>"
      ],
      "text/plain": [
       "Empty DataFrame\n",
       "Columns: [request_id, vacancy_id_conv, city, applicant]\n",
       "Index: []"
      ]
     },
     "execution_count": 7,
     "metadata": {},
     "output_type": "execute_result"
    }
   ],
   "source": [
    "serps[serps.duplicated()]"
   ]
  },
  {
   "cell_type": "code",
   "execution_count": 10,
   "id": "f7aeef8a-e643-4afd-88e1-e9f19bba4585",
   "metadata": {},
   "outputs": [
    {
     "data": {
      "text/plain": [
       "(0, 999999)"
      ]
     },
     "execution_count": 10,
     "metadata": {},
     "output_type": "execute_result"
    }
   ],
   "source": [
    "serps.applicant.min(), serps.applicant.max()"
   ]
  },
  {
   "cell_type": "code",
   "execution_count": 11,
   "id": "ed05dc3f-2502-4b2b-99cd-70c2c01473dd",
   "metadata": {},
   "outputs": [
    {
     "data": {
      "text/plain": [
       "911862"
      ]
     },
     "execution_count": 11,
     "metadata": {},
     "output_type": "execute_result"
    }
   ],
   "source": [
    "serps.applicant.nunique()"
   ]
  },
  {
   "cell_type": "markdown",
   "id": "28355897-ef6d-4a41-ba16-99f6d9d25b99",
   "metadata": {},
   "source": [
    "Не все applicant между 0 и 999 999 существуют"
   ]
  },
  {
   "cell_type": "code",
   "execution_count": 8,
   "id": "19ad7818-a5a8-4def-b126-33aa0d11ffb5",
   "metadata": {},
   "outputs": [
    {
     "data": {
      "text/plain": [
       "True"
      ]
     },
     "execution_count": 8,
     "metadata": {},
     "output_type": "execute_result"
    }
   ],
   "source": [
    "set(vacs.vacancy_id_conv.to_list()) == set(serps.vacancy_id_conv.to_list())"
   ]
  },
  {
   "cell_type": "markdown",
   "id": "a92da216-d520-49c4-a483-1d7e501d5990",
   "metadata": {},
   "source": [
    "Идеально: лишних или нехватающих айдишников объявлений в обеих таблицах нет"
   ]
  },
  {
   "cell_type": "code",
   "execution_count": 4,
   "id": "e9c9e259-1936-4bb6-884e-52397525ef57",
   "metadata": {},
   "outputs": [],
   "source": [
    "serps.city = serps.city.astype('category')"
   ]
  },
  {
   "cell_type": "code",
   "execution_count": 10,
   "id": "66249d55-0c53-406e-8210-e78987433597",
   "metadata": {},
   "outputs": [
    {
     "data": {
      "image/png": "[encoded data removed]",
      "text/plain": [
       "<Figure size 432x288 with 1 Axes>"
      ]
     },
     "metadata": {},
     "output_type": "display_data"
    }
   ],
   "source": [
    "serps.city.value_counts().plot.pie(legend=True);"
   ]
  },
  {
   "cell_type": "code",
   "execution_count": 12,
   "id": "18d463d5-c5f6-4b4e-8ade-d3d26597ad7b",
   "metadata": {},
   "outputs": [
    {
     "data": {
      "text/plain": [
       "Moscow    785767\n",
       "SPb       592298\n",
       "Kazan     456466\n",
       "Penza     347974\n",
       "Samara    249091\n",
       "Name: city, dtype: int64"
      ]
     },
     "execution_count": 12,
     "metadata": {},
     "output_type": "execute_result"
    }
   ],
   "source": [
    "serps.city.value_counts()"
   ]
  },
  {
   "cell_type": "code",
   "execution_count": 17,
   "id": "59a1c90c-ccc1-4f9c-bb24-82098ab9318b",
   "metadata": {},
   "outputs": [
    {
     "name": "stdout",
     "output_type": "stream",
     "text": [
      "<class 'pandas.core.frame.DataFrame'>\n",
      "RangeIndex: 2431596 entries, 0 to 2431595\n",
      "Data columns (total 4 columns):\n",
      " #   Column           Dtype   \n",
      "---  ------           -----   \n",
      " 0   request_id       object  \n",
      " 1   vacancy_id_conv  int64   \n",
      " 2   city             category\n",
      " 3   applicant        int64   \n",
      "dtypes: category(1), int64(2), object(1)\n",
      "memory usage: 58.0+ MB\n"
     ]
    }
   ],
   "source": [
    "serps.info()"
   ]
  },
  {
   "cell_type": "code",
   "execution_count": null,
   "id": "b59196ac-0f80-4203-aabb-b053566e002f",
   "metadata": {},
   "outputs": [],
   "source": []
  },
  {
   "cell_type": "code",
   "execution_count": 38,
   "id": "a776f5ad-0ebf-4304-b3e1-aa12800b36d5",
   "metadata": {},
   "outputs": [
    {
     "data": {
      "text/plain": [
       "1     0.445046\n",
       "2     0.242665\n",
       "3     0.131103\n",
       "4     0.069280\n",
       "5     0.038471\n",
       "6     0.022304\n",
       "7     0.014474\n",
       "8     0.010065\n",
       "9     0.006957\n",
       "10    0.005039\n",
       "Name: vacancy_id_conv, dtype: float64"
      ]
     },
     "execution_count": 38,
     "metadata": {},
     "output_type": "execute_result"
    }
   ],
   "source": [
    "request_id_freq = serps.groupby('request_id').count().vacancy_id_conv.value_counts(normalize=True)\n",
    "request_id_freq.head(10)"
   ]
  },
  {
   "cell_type": "code",
   "execution_count": 46,
   "id": "6cf7d2b5-2d17-43e2-a886-973186571065",
   "metadata": {},
   "outputs": [
    {
     "data": {
      "text/plain": [
       "0.010991"
      ]
     },
     "execution_count": 46,
     "metadata": {},
     "output_type": "execute_result"
    }
   ],
   "source": [
    "request_id_freq[11:].sum()"
   ]
  },
  {
   "cell_type": "code",
   "execution_count": 45,
   "id": "29369457-0034-4e0e-8039-a9ade34babbc",
   "metadata": {},
   "outputs": [
    {
     "data": {
      "text/plain": [
       "50"
      ]
     },
     "execution_count": 45,
     "metadata": {},
     "output_type": "execute_result"
    }
   ],
   "source": [
    "request_id_freq.index.max()"
   ]
  },
  {
   "cell_type": "code",
   "execution_count": 54,
   "id": "81b337a1-42c8-4bfc-af0d-a8814045f498",
   "metadata": {},
   "outputs": [
    {
     "data": {
      "image/png": "[encoded data removed]",
      "text/plain": [
       "<Figure size 432x288 with 1 Axes>"
      ]
     },
     "metadata": {
      "needs_background": "light"
     },
     "output_type": "display_data"
    }
   ],
   "source": [
    "sns.barplot(y=request_id_freq.values, x=request_id_freq.index);"
   ]
  },
  {
   "cell_type": "markdown",
   "id": "6fba854a-4792-49ed-9e55-922959283817",
   "metadata": {},
   "source": [
    "Один request_id срабатывает почти в половине случаев лишь раз? Чаще 10 раз лишь 1% request_id показываются. Хотя есть рекордсмен и на 50 показов."
   ]
  },
  {
   "cell_type": "code",
   "execution_count": null,
   "id": "0a028886-be4d-4c16-b1b8-59a11d1efcb1",
   "metadata": {},
   "outputs": [],
   "source": []
  },
  {
   "cell_type": "code",
   "execution_count": 21,
   "id": "a19b22f6-104f-485e-87a4-594bb8c6f159",
   "metadata": {},
   "outputs": [
    {
     "data": {
      "text/plain": [
       "1     0.052468\n",
       "2     0.048829\n",
       "3     0.045261\n",
       "4     0.042414\n",
       "5     0.038685\n",
       "6     0.038360\n",
       "7     0.034901\n",
       "8     0.032523\n",
       "9     0.030360\n",
       "10    0.029297\n",
       "Name: city, dtype: float64"
      ]
     },
     "execution_count": 21,
     "metadata": {},
     "output_type": "execute_result"
    }
   ],
   "source": [
    "vacancy_id_conv_freq = serps.groupby('vacancy_id_conv').count().city.value_counts(normalize=True)\n",
    "vacancy_id_conv_freq.head(10)"
   ]
  },
  {
   "cell_type": "code",
   "execution_count": 23,
   "id": "d0d97267-1ce7-405f-93e1-174557bd4bf5",
   "metadata": {},
   "outputs": [
    {
     "data": {
      "text/plain": [
       "22899"
      ]
     },
     "execution_count": 23,
     "metadata": {},
     "output_type": "execute_result"
    }
   ],
   "source": [
    "vacancy_id_conv_freq.index.max()"
   ]
  },
  {
   "cell_type": "code",
   "execution_count": 30,
   "id": "56afc187-8518-46f4-87ce-9796d4835cb3",
   "metadata": {},
   "outputs": [
    {
     "data": {
      "text/plain": [
       "0.08717117117117118"
      ]
     },
     "execution_count": 30,
     "metadata": {},
     "output_type": "execute_result"
    }
   ],
   "source": [
    "vacancy_id_conv_freq[100:].sum()"
   ]
  },
  {
   "cell_type": "code",
   "execution_count": 22,
   "id": "5329c55e-3326-4d87-8330-8bc9c4c0de92",
   "metadata": {},
   "outputs": [
    {
     "data": {
      "image/png": "[encoded data removed]",
      "text/plain": [
       "<Figure size 432x288 with 1 Axes>"
      ]
     },
     "metadata": {
      "needs_background": "light"
     },
     "output_type": "display_data"
    }
   ],
   "source": [
    "sns.barplot(y=vacancy_id_conv_freq.values, x=vacancy_id_conv_freq.index);"
   ]
  },
  {
   "cell_type": "markdown",
   "id": "d598feb1-13b6-40b2-bc6a-32e0d0956eab",
   "metadata": {},
   "source": [
    "Вакансии по количеству реакций сильно отличаются. Около 9% реакций приходится на вакансии, на которые откликались не менее 100 раз. Максимум откликов - 22899"
   ]
  },
  {
   "cell_type": "code",
   "execution_count": null,
   "id": "0327a412-b3f3-4e67-aa50-04f5a3271d6d",
   "metadata": {},
   "outputs": [],
   "source": []
  },
  {
   "cell_type": "code",
   "execution_count": 31,
   "id": "26a24bc3-bf9f-4856-9af8-8f36c3b3bb19",
   "metadata": {},
   "outputs": [
    {
     "data": {
      "text/plain": [
       "2     0.284664\n",
       "1     0.234172\n",
       "3     0.231037\n",
       "4     0.140639\n",
       "5     0.068377\n",
       "6     0.027514\n",
       "7     0.009629\n",
       "8     0.002931\n",
       "9     0.000802\n",
       "10    0.000179\n",
       "Name: vacancy_id_conv, dtype: float64"
      ]
     },
     "execution_count": 31,
     "metadata": {},
     "output_type": "execute_result"
    }
   ],
   "source": [
    "applicant_freq = serps.groupby('applicant').count().vacancy_id_conv.value_counts(normalize=True)\n",
    "applicant_freq.head(10)"
   ]
  },
  {
   "cell_type": "code",
   "execution_count": 37,
   "id": "52eb1847-72db-4bf6-863b-bec137cc158e",
   "metadata": {},
   "outputs": [
    {
     "data": {
      "text/plain": [
       "0.01359745224606355"
      ]
     },
     "execution_count": 37,
     "metadata": {},
     "output_type": "execute_result"
    }
   ],
   "source": [
    "applicant_freq[6:].sum()"
   ]
  },
  {
   "cell_type": "code",
   "execution_count": 35,
   "id": "09d6ffba-a899-4925-8259-50e5dec565f0",
   "metadata": {},
   "outputs": [
    {
     "data": {
      "text/plain": [
       "12"
      ]
     },
     "execution_count": 35,
     "metadata": {},
     "output_type": "execute_result"
    }
   ],
   "source": [
    "applicant_freq.index.max()"
   ]
  },
  {
   "cell_type": "code",
   "execution_count": 36,
   "id": "e6ac2e04-11bc-4733-a02b-c383d5a43230",
   "metadata": {},
   "outputs": [
    {
     "data": {
      "image/png": "[encoded data removed]",
      "text/plain": [
       "<Figure size 432x288 with 1 Axes>"
      ]
     },
     "metadata": {
      "needs_background": "light"
     },
     "output_type": "display_data"
    }
   ],
   "source": [
    "sns.barplot(y=applicant_freq.values, x=applicant_freq.index);"
   ]
  },
  {
   "cell_type": "markdown",
   "id": "ee8e132c-df72-4b70-bc82-28102628fcd7",
   "metadata": {},
   "source": [
    "Соискатели по количеству реакций отличаются несильно. Может это данные за небольшое время? Всего полтора процента реакций приходится на соискателей, откликнувшихся более 5 раз. Максимум реакций - 12."
   ]
  },
  {
   "cell_type": "code",
   "execution_count": null,
   "id": "34ed29b5-bb94-4574-afe9-d75c47d9bc1d",
   "metadata": {},
   "outputs": [],
   "source": []
  },
  {
   "cell_type": "code",
   "execution_count": null,
   "id": "561c200b-ca27-4027-8664-ef649951804f",
   "metadata": {},
   "outputs": [],
   "source": [
    "serps.vacancy_id_conv.value_counts()"
   ]
  },
  {
   "cell_type": "code",
   "execution_count": 5,
   "id": "5572c3fb-c266-48a6-8bc7-98eab02a2410",
   "metadata": {},
   "outputs": [
    {
     "data": {
      "text/html": [
       "<div>\n",
       "<style scoped>\n",
       "    .dataframe tbody tr th:only-of-type {\n",
       "        vertical-align: middle;\n",
       "    }\n",
       "\n",
       "    .dataframe tbody tr th {\n",
       "        vertical-align: top;\n",
       "    }\n",
       "\n",
       "    .dataframe thead th {\n",
       "        text-align: right;\n",
       "    }\n",
       "</style>\n",
       "<table border=\"1\" class=\"dataframe\">\n",
       "  <thead>\n",
       "    <tr style=\"text-align: right;\">\n",
       "      <th></th>\n",
       "      <th>request_id</th>\n",
       "      <th>vacancy_id_conv</th>\n",
       "      <th>city</th>\n",
       "      <th>applicant</th>\n",
       "    </tr>\n",
       "  </thead>\n",
       "  <tbody>\n",
       "    <tr>\n",
       "      <th>0</th>\n",
       "      <td>168719525526659303f2dee867dc6eda</td>\n",
       "      <td>48019</td>\n",
       "      <td>Moscow</td>\n",
       "      <td>78076</td>\n",
       "    </tr>\n",
       "    <tr>\n",
       "      <th>1</th>\n",
       "      <td>168719525526659303f2dee867dc6eda</td>\n",
       "      <td>45120</td>\n",
       "      <td>Moscow</td>\n",
       "      <td>614859</td>\n",
       "    </tr>\n",
       "    <tr>\n",
       "      <th>2</th>\n",
       "      <td>168719525526659303f2dee867dc6eda</td>\n",
       "      <td>18132</td>\n",
       "      <td>Moscow</td>\n",
       "      <td>175212</td>\n",
       "    </tr>\n",
       "    <tr>\n",
       "      <th>3</th>\n",
       "      <td>168719525526659303f2dee867dc6eda</td>\n",
       "      <td>29942</td>\n",
       "      <td>Moscow</td>\n",
       "      <td>322643</td>\n",
       "    </tr>\n",
       "    <tr>\n",
       "      <th>4</th>\n",
       "      <td>168719525526659303f2dee867dc6eda</td>\n",
       "      <td>32658</td>\n",
       "      <td>Moscow</td>\n",
       "      <td>722260</td>\n",
       "    </tr>\n",
       "  </tbody>\n",
       "</table>\n",
       "</div>"
      ],
      "text/plain": [
       "                         request_id  vacancy_id_conv    city  applicant\n",
       "0  168719525526659303f2dee867dc6eda            48019  Moscow      78076\n",
       "1  168719525526659303f2dee867dc6eda            45120  Moscow     614859\n",
       "2  168719525526659303f2dee867dc6eda            18132  Moscow     175212\n",
       "3  168719525526659303f2dee867dc6eda            29942  Moscow     322643\n",
       "4  168719525526659303f2dee867dc6eda            32658  Moscow     722260"
      ]
     },
     "execution_count": 5,
     "metadata": {},
     "output_type": "execute_result"
    }
   ],
   "source": [
    "serps.head()"
   ]
  },
  {
   "cell_type": "code",
   "execution_count": 42,
   "id": "4d434b12-80f2-4626-8882-66e218821d51",
   "metadata": {},
   "outputs": [
    {
     "data": {
      "text/html": [
       "<div>\n",
       "<style scoped>\n",
       "    .dataframe tbody tr th:only-of-type {\n",
       "        vertical-align: middle;\n",
       "    }\n",
       "\n",
       "    .dataframe tbody tr th {\n",
       "        vertical-align: top;\n",
       "    }\n",
       "\n",
       "    .dataframe thead th {\n",
       "        text-align: right;\n",
       "    }\n",
       "</style>\n",
       "<table border=\"1\" class=\"dataframe\">\n",
       "  <thead>\n",
       "    <tr style=\"text-align: right;\">\n",
       "      <th></th>\n",
       "      <th>vacancy_id_conv</th>\n",
       "      <th>metric_full</th>\n",
       "      <th>emplpyer_id</th>\n",
       "    </tr>\n",
       "  </thead>\n",
       "  <tbody>\n",
       "    <tr>\n",
       "      <th>0</th>\n",
       "      <td>1</td>\n",
       "      <td>5.250818</td>\n",
       "      <td>640</td>\n",
       "    </tr>\n",
       "    <tr>\n",
       "      <th>1</th>\n",
       "      <td>2</td>\n",
       "      <td>5.808587</td>\n",
       "      <td>5123</td>\n",
       "    </tr>\n",
       "    <tr>\n",
       "      <th>2</th>\n",
       "      <td>3</td>\n",
       "      <td>2.830297</td>\n",
       "      <td>3325</td>\n",
       "    </tr>\n",
       "    <tr>\n",
       "      <th>3</th>\n",
       "      <td>4</td>\n",
       "      <td>5.179469</td>\n",
       "      <td>3511</td>\n",
       "    </tr>\n",
       "    <tr>\n",
       "      <th>4</th>\n",
       "      <td>5</td>\n",
       "      <td>5.457955</td>\n",
       "      <td>6604</td>\n",
       "    </tr>\n",
       "  </tbody>\n",
       "</table>\n",
       "</div>"
      ],
      "text/plain": [
       "   vacancy_id_conv  metric_full  emplpyer_id\n",
       "0                1     5.250818          640\n",
       "1                2     5.808587         5123\n",
       "2                3     2.830297         3325\n",
       "3                4     5.179469         3511\n",
       "4                5     5.457955         6604"
      ]
     },
     "execution_count": 42,
     "metadata": {},
     "output_type": "execute_result"
    }
   ],
   "source": [
    "vacs.head()"
   ]
  },
  {
   "cell_type": "code",
   "execution_count": null,
   "id": "909a24f7-da3a-409c-8c99-cdd02de9c606",
   "metadata": {},
   "outputs": [],
   "source": []
  },
  {
   "cell_type": "code",
   "execution_count": null,
   "id": "12456901-afdf-4983-bf3f-b8e69c117416",
   "metadata": {},
   "outputs": [],
   "source": []
  },
  {
   "cell_type": "code",
   "execution_count": null,
   "id": "e22b206b-bbdb-49e2-aa2a-22f88e9bbc7e",
   "metadata": {},
   "outputs": [],
   "source": []
  },
  {
   "cell_type": "markdown",
   "id": "54538188-c1ac-4f87-aba4-e0934d7dad33",
   "metadata": {},
   "source": [
    "На любом этапе прикидывать реалистичность данных.  \n",
    "На любом этапе очищать данные от обнаруженных неточностей, несоответствий.  \n",
    "\n",
    "Готовые \"библиотеки\" для анализа  \n",
    "!pip install pandas_profiling --upgrade  \n",
    "from pandas_profiling import ProfileReport  \n",
    "profile = ProfileReport(df)  \n",
    "profile\n",
    "\n",
    "-----\n",
    "- Предварительный просмотр данных\n",
    "  - df.sample(5)\n",
    "- Переименование полей\n",
    "  - df.columns = df.columns.str.lower().str.replace(' ',  '\\_')\n",
    "- Общее количество записей и типы столбцов\n",
    "  - df.shape, \n",
    "  - df.info()\n",
    "- Проверить любые нулевые значения\n",
    "  - df.isnull().sum(), \n",
    "  - df.isnull().sum() / df.shape[0]\n",
    "- Удалить ненужные колонки\n",
    "  - из df.columns скопировать названия во внутрь df[[]] и убирать колонки, переходя на новую строку и \"комментируя\" названия колонок. Чтобы можно было переиграть если что\n",
    "- Проверить дубликаты записей\n",
    "  - df[df.duplicated()].shape[0], \n",
    "  - df[df.duplicated()].shape[0] / df.shape[0], \n",
    "  - df.drop_duplicates(subset=None, keep=’first’, inplace=False)\n",
    "- Преобразование типов данных\n",
    "  - df.describe(include='object'),\n",
    "  - время df.pickup = pd.to_datetime(df.pickup),\n",
    "  - категориальные типы данных (при небольшом количестве значений?)  \n",
    "    for col in ('color', 'payment', 'pickup_borough', 'dropoff_borough'):\n",
    "    df[col] = df[col].astype('category')\n",
    "- ВременнЫе границы, пропущенные периоды\n",
    "  - df.dates.min(), df.dates.max(),\n",
    "  - df.dates.dt.to_period(\"M\").nunique() - количеством имеющихся периодов,\n",
    "  - барплот \"периоды - количество строк\" sns.countplot(df.dates.dt.to_period(\"M\"))\n",
    "\n",
    "-----\n",
    "##### Одномерный анализ\n",
    "- Посмотреть временные ряды числовых данных (средние?) (по дням, месяцам и годам?). Тенденции, периодичность.\n",
    "- Гистограмма распределения числовых данных. Посмотреть выбросы\n",
    "- Гистограмма распределения числовых данных, в разрезе по различным категориям (пол, тип оплаты...). \n",
    "  Если категория две, то скрипки, если больше, то полупрозрачные гистограммы (или kde)?\n",
    "- Распределение количества данных по категориальным данным sns.histplot(data=df, x='city_category'); или plt.pie(df.gender.value_counts(), labels=['M', 'F'])\n",
    "\n",
    "-----\n",
    "##### Двумерный анализ  \n",
    "- Функции распределения цели по пользователям/товарам... purchase_by_user = df.groupby('user_id')['purchase'].sum(); sns.ecdfplot(purchase_by_user.values);  \n",
    "- Гистограммы распределения числовых данных - парное совместное распределение.  \n",
    "- Диаграммы Параметры категориальные - цель (цель может быть \"разной\"? Сумма продаж на категорию, средняя сумма продаж на покупателя из категории, средний чек, среднее количество покупок на покупателя в категории...).  \n",
    "- Двумерные диаграммы. Скаттерплоты + линии регрессии, барплоты \"категориальные - числовые\". На скаттерплоте категории цветом вывести. Удобнее такое смотреть в BI-системе?  \n",
    "- Сводные таблицы \"Категория - Категория - Числовые данные (цель?)\". FasetGrid?\n",
    "- Pairplot для числовых данных sns.pairplot(df)  \n",
    "- Корреляционные матрицы df.corr().style.background_gradient(cmap='crest'). С версии 1.5.0 можно не только для числовых столбиков  \n",
    "\n",
    "-----\n",
    "- Удалить выбросы? заполнить недостающие значения? Или это уже для ML?  \n",
    "```python\n",
    "q_1, q_3 = np.nanpercentile(df.A, [25, 75])\n",
    "up_thresh = q_3 + 1.5 * diff_3_1\n",
    "low_thresh = q_1 - 1.5 * diff_3_1\n",
    "df.A[(df.A > low_thresh) * (df.A < up_thresh)]\n",
    "```  \n",
    "\n",
    "-----\n",
    "- Присоединить новые данные (погода, курсы валют, индексы деловой активности)\n",
    "\n",
    "-----\n",
    "Самые важные признаки:\n",
    "```python\n",
    "from sklearn.feature_selection import SelectKBest\n",
    "from sklearn.feature_selection import chi2\n",
    "X = df[['Возраст', 'Длительность', 'Кампания', 'День', 'Предыдущий контакт', 'Индекс потребительских цен', 'Европейская межбанковская ставка', 'Количество сотрудников в компании']]\n",
    "y = df.iloc[:, -1]\n",
    "bestfeatures = SelectKBest(score_func = chi2, k = 'all')\n",
    "fit = bestfeatures.fit(X, y)\n",
    "dfscores = pd.DataFrame(fit.scores_)\n",
    "dfcolumns = pd.DataFrame(X.columns)\n",
    "featureScores = pd.concat([dfcolumns, dfscores], axis = 1)\n",
    "featureScores.columns = ['Specs', 'Score']  \n",
    "print(featureScores.nlargest(10, 'Score')) \n",
    "```"
   ]
  }
 ],
 "metadata": {
  "kernelspec": {
   "display_name": "Python 3",
   "language": "python",
   "name": "python3"
  },
  "language_info": {
   "codemirror_mode": {
    "name": "ipython",
    "version": 3
   },
   "file_extension": ".py",
   "mimetype": "text/x-python",
   "name": "python",
   "nbconvert_exporter": "python",
   "pygments_lexer": "ipython3",
   "version": "3.8.8"
  }
 },
 "nbformat": 4,
 "nbformat_minor": 5
}
